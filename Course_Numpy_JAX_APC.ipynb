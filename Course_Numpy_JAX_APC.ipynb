{
  "nbformat": 4,
  "nbformat_minor": 0,
  "metadata": {
    "colab": {
      "provenance": [],
      "authorship_tag": "ABX9TyMUhME0L0FmC9KGPqu+2U1H",
      "include_colab_link": true
    },
    "kernelspec": {
      "name": "python3",
      "display_name": "Python 3"
    },
    "language_info": {
      "name": "python"
    }
  },
  "cells": [
    {
      "cell_type": "markdown",
      "metadata": {
        "id": "view-in-github",
        "colab_type": "text"
      },
      "source": [
        "<a href=\"https://colab.research.google.com/github/pchanial/python-for-data-scientists/blob/master/Course_Numpy_JAX_APC.ipynb\" target=\"_parent\"><img src=\"https://colab.research.google.com/assets/colab-badge.svg\" alt=\"Open In Colab\"/></a>"
      ]
    },
    {
      "cell_type": "markdown",
      "source": [
        "# Numpy & JAX\n",
        "\n"
      ],
      "metadata": {
        "id": "Put1DYEP_i8e"
      }
    },
    {
      "cell_type": "markdown",
      "source": [
        "## Objectives of the course:\n",
        "- Understand why Numpy is faster than Vanilla Python\n",
        "- Understand why JAX is faster than Numpy\n",
        "- Numpy concepts no more applicable to JAX\n",
        "- Numpy concepts still applicable to JAX\n"
      ],
      "metadata": {
        "id": "ShXME5SJBO_O"
      }
    },
    {
      "cell_type": "code",
      "source": [
        "# imports necessary for the course\n",
        "import timeit\n",
        "from typing import Any, Callable, Sequence\n",
        "import jax\n",
        "import jax.numpy as jnp\n",
        "import jaxlib\n",
        "import numpy as np\n",
        "import matplotlib.pyplot as mp\n",
        "#import polars as pl\n",
        "\n",
        "print('Devices:', jax.devices())\n",
        "import time\n",
        "\n",
        "\n",
        "# helpers\n",
        "def pointer(x: np.ndarray) -> int:\n",
        "  \"\"\"Returns the memory address of the first array element.\"\"\"\n",
        "  return x.__array_interface__['data'][0]\n",
        "\n",
        "\n",
        "def bench_one(func: Callable[[], Any]) -> float:\n",
        "    \"\"\"Returns execution time in s.\"\"\"\n",
        "    repeat = 7\n",
        "    timer = timeit.Timer(func)\n",
        "    number, _ = timer.autorange()\n",
        "    runs = np.array([_ / number for _ in timer.repeat(repeat=repeat, number=number)])\n",
        "    runs_ms = runs * 1000\n",
        "    print(f'{np.min(runs_ms):.3f} ms ± {np.std(runs_ms) * 1000:.2f} µs (min ± std. dev. of {repeat} runs, {number} loops each)')\n",
        "    return np.min(runs)\n",
        "\n",
        "\n",
        "def bench(func: Callable, values: Sequence[Any], *, setup: Callable | None = None) -> list[float]:\n",
        "    elapsed_times = []\n",
        "    for value in values:\n",
        "        if setup is not None:\n",
        "            args = setup(value)\n",
        "        else:\n",
        "            args = (value,)\n",
        "        if isinstance(func, jaxlib.xla_extension.PjitFunction):\n",
        "            func(*args)\n",
        "            benchmarked_func = lambda: func(*args).block_until_ready()\n",
        "        else:\n",
        "            benchmarked_func = lambda: func(*args)\n",
        "        elapsed_times.append(bench_one(benchmarked_func))\n",
        "    return elapsed_times\n",
        "\n",
        "\n",
        "def bench_many(funcs: Sequence[Callable], values: Sequence[Any], setups: Sequence[Callable | None], labels: Sequence[str]) -> None:\n",
        "    for func, setup, label in zip(funcs, setups, labels):\n",
        "        run_times = bench(func, values, setup=setup)\n",
        "        mp.loglog(values, run_times, marker='.', label=label)\n",
        "    mp.ylabel('Elapsed time [s]')\n",
        "    mp.legend()\n"
      ],
      "metadata": {
        "id": "fH2LxsS8Gx5v",
        "colab": {
          "base_uri": "https://localhost:8080/"
        },
        "outputId": "c2021cec-d2ef-404a-947f-d93c8e95e782"
      },
      "execution_count": 110,
      "outputs": [
        {
          "output_type": "stream",
          "name": "stdout",
          "text": [
            "Devices: [CpuDevice(id=0)]\n"
          ]
        }
      ]
    },
    {
      "cell_type": "markdown",
      "source": [
        "## Why is Numpy faster than Vanilla Python\n",
        "\n",
        "The Numpy array model is quite powerful, but before delving into the details on how Numpy arrays can be manipulated, it is interesting to understand why they are much more efficient than Python lists. First, when a Numpy array is created, its elements are stored one next to the other (the memory storage is contiguous, see figure on the left for a 2-dimensional array), whereas in a Python list, elements are created before the list and they can be stored wherever in the memory (the memory storage is scattered, see figure on the right). In most systems, data from the main memory is transferred to the CPU via layers of caches, which implies that memory transfers from the cache to the CPU involve whole chunks of contiguous memory (a cache line) even if only few bytes in the cache line are actually requested by the CPU. As a consequence, a non-contiguous memory storage of the data will force the transfer of unneeded data from the cache and will incur a bandwidth penalty. In addition to that, modern architectures also have the possibility to anticipate transfers from the memory by prefetching the next cache lines. This mechanism will obviously better work when the data storage is contiguous. A second advantage of Numpy’s arrays over Python’s lists is that all elements occupy the same number of bytes, and as a consequence, the location of an element in the memory (its address) can be cheaply computed from its index and the location of the first element. There is no such relationship in Python lists: the location of each element has to be stored in the memory, so that every read or write access has the indirection overhead of transferring this element location to the CPU beforehand.\n",
        "\n",
        "- Vanilla Python memory layout\n",
        "\n",
        "![list of list](https://raw.githubusercontent.com/pchanial/python-for-data-scientists/gh-pages/source/layout_listoflist.png)\n",
        "\n",
        "- Numpy memory layout\n",
        "\n",
        "![ndarray](https://raw.githubusercontent.com/pchanial/python-for-data-scientists/gh-pages/source/layout_2darray.png)\n",
        "\n",
        "\n",
        "For writing efficient code for Numpy and JAX, one should think in terms of vectors, matrices or tensors to reduce the back and forth between the low-level implementation of mathematical functions and the Python interpreter.\n",
        "\n"
      ],
      "metadata": {
        "id": "13pGK76QCq7j"
      }
    },
    {
      "cell_type": "markdown",
      "source": [
        "**Exercice**: Wave the for loops goodbye!\n",
        "\n",
        "Compute $\\pi$, as given by the Madhava formula\n",
        "$\\pi = \\sqrt{12}\\sum^\\infty_{k=0} \\frac{(-\\frac{1}{3})^{k}}{2k+1}$.\n",
        "The $k$ indices ranging from 0 to (let’s say) 29 will be returned by the NumPy function `arange` (see above) and $\\pi$ will be computed by calling another NumPy function (`sum`), instead of using a for loop."
      ],
      "metadata": {
        "id": "iV9Bk-n1_Ufj"
      }
    },
    {
      "cell_type": "code",
      "source": [
        "N = 30\n",
        "pi = ...\n",
        "assert abs(pi - np.pi) < 1e-15"
      ],
      "metadata": {
        "id": "H9nSx4gT_UA0"
      },
      "execution_count": null,
      "outputs": []
    },
    {
      "cell_type": "markdown",
      "source": [
        "## Why is JAX faster than Numpy\n",
        "\n",
        "While operation fusion (or kernel fusion) is the flagship feature of XLA, it should be noted that XLA also performs a ton of other whole-program optimizations, like specializing to known tensor shapes (allowing for more aggressive constant propagation), analyzing and scheduling memory usage to eliminate intermediate storage buffers[4], performing memory layout operations, and only computing subsets of requested values if not all of them are being returned[5]."
      ],
      "metadata": {
        "id": "aC5j1YlhCwHO"
      }
    },
    {
      "cell_type": "code",
      "source": [
        "values = [2**n for n in range(10, 24)]\n",
        "\n",
        "setup_numpy = lambda n: (np.arange(n, dtype=np.float32),)\n",
        "setup_jax = lambda n: (jnp.arange(n, dtype=np.float32),)\n",
        "results = bench_many(\n",
        "    [np.sum, jax.jit(jnp.sum)],\n",
        "    values,\n",
        "    setups=[setup_numpy, setup_jax],\n",
        "    labels=['numpy', 'jax'],\n",
        ")\n",
        "mp.title('sum(x)')"
      ],
      "metadata": {
        "id": "W44ezrmf7mFH"
      },
      "execution_count": null,
      "outputs": []
    },
    {
      "cell_type": "code",
      "source": [
        "values = [2**n for n in range(10, 24)]\n",
        "\n",
        "setup_numpy = lambda n: (np.random.normal(size=n).astype(np.float32), np.random.normal(size=n).astype(np.float32))\n",
        "key = jax.random.key(0)\n",
        "key1, key2 = jax.random.split(key)\n",
        "setup_jax = lambda n: (jax.random.normal(key1, (n,), np.float32), jax.random.normal(key2, (n,), np.float32))\n",
        "\n",
        "bench_many(\n",
        "    [lambda x, y: 2 * x * y + 3 * y + 1, jax.jit(lambda x, y: 2 * x * y + 3 * y + 1)],\n",
        "    values,\n",
        "    setups=[setup_numpy, setup_jax],\n",
        "    labels=['numpy', 'jax'],\n",
        ")\n",
        "mp.title('2xy + 3y + 1')"
      ],
      "metadata": {
        "id": "nrORVvCP0T-A"
      },
      "execution_count": null,
      "outputs": []
    },
    {
      "cell_type": "markdown",
      "source": [
        "\n",
        "\n",
        "## Numpy concepts no more applicable to JAX\n",
        "- inplace operations\n",
        "- promotion rules\n",
        "- np.random (use `jax.random`)\n"
      ],
      "metadata": {
        "id": "BhPtfdQDBTcI"
      }
    },
    {
      "cell_type": "markdown",
      "source": [
        "## Numpy concepts still applicable to JAX\n",
        "\n",
        "- indexing\n",
        "- broadcasting\n",
        "- ufunc methods\n",
        "\n"
      ],
      "metadata": {
        "id": "a0twBSxzBVzB"
      }
    },
    {
      "cell_type": "markdown",
      "source": [
        "### Indexing"
      ],
      "metadata": {
        "id": "P2aztBSEB_8c"
      }
    },
    {
      "cell_type": "markdown",
      "source": [
        "### Broadcasting\n",
        "Broadcasting allows operations (such as addition, multiplication etc.) which are normally element-wise to be carried on arrays of different shapes. It is a virtual replication of the arrays along the missing dimensions. It can be seen as a generalization of operations involving an array and a scalar.\n",
        "\n",
        "- the addition of a scalar on an matrix can be seen as the addition of a matrix with identical elements (and same dimensions).\n",
        "\n",
        "![broadcast scalar](https://raw.githubusercontent.com/pchanial/python-for-data-scientists/gh-pages/source/broadcast_scalar.png)\n",
        "\n",
        "- the addition of a row on a matrix will be seen as the addition of a matrix with replicated rows (the number of columns must match).\n",
        "\n",
        "![broadcast column](https://raw.githubusercontent.com/pchanial/python-for-data-scientists/gh-pages/source/broadcast_column.png)\n",
        "\n",
        "- conversely the addition of a column on a matrix will be seen as the addition of a matrix with replicated columns (the number of rows must match)\n",
        "\n",
        "![broadcast row](https://raw.githubusercontent.com/pchanial/python-for-data-scientists/gh-pages/source/broadcast_row.png)\n",
        "\n",
        "- What if the rank of the arrays is greater than 2? There is no restriction on the rank: any dimension of length 1 is broadcastable and is virtually replicated to match the other array’s dimension length. The two arrays may have different broadcastable dimensions. If this happens, the result of the operation will have more elements than any of the operands.\n",
        "\n",
        "- Can it work on arrays of different ranks? Sure! Dimensions of length 1 are prepended (added on the left of the array shape) until the two arrays have the same rank. As a consequence, the following operation is possible:\n",
        "\n",
        "```python\n",
        "np.zeros((5, 9)) + np.ones(9)\n",
        "```\n",
        "\n",
        "but not this one, since the righmost dimensions are different:\n",
        "\n",
        "```python\n",
        "np.zeros((5, 9)) + np.ones(5)\n",
        "# ValueError: operands could not be broadcast together with shapes (5,9) (5)\n",
        "```\n",
        "\n",
        "So for columns, an additional dimension must be specified and added on the right:\n",
        "\n",
        "```python\n",
        "np.zeros((5, 9)) + np.ones(5)[:, None]\n",
        "```\n",
        "\n",
        "Can it work on more than two arrays? Yes again! But you have to find an element-wise operation with more than two operands...\n",
        "\n",
        "Since the replication is virtual, no memory is wasted. Broadcasting is fast. Use it wherever possible, just keep an eye on the size of the broadcast result to make sure that it does not become too large.\n",
        "\n"
      ],
      "metadata": {
        "id": "kZQTTlNrCKpN"
      }
    },
    {
      "cell_type": "code",
      "source": [
        "np.broadcast_shapes((3, 1, 4), (3, 4))"
      ],
      "metadata": {
        "id": "JX6ER2ZydlOt"
      },
      "execution_count": null,
      "outputs": []
    },
    {
      "cell_type": "code",
      "source": [
        "a1 = np.ones((4, 1))\n",
        "a2 = np.ones((2, 1, 3))\n",
        "a1_broadcast, a2_broadcast = np.broadcast_arrays(a1, a2)\n",
        "print('broadcast shapes:', a1_broadcast.shape, a2_broadcast.shape)\n",
        "print('same memory layout:', pointer(a1) == pointer(a1_broadcast))\n",
        "print(f'{a1.strides=}', f'{a1_broadcast.strides=}')"
      ],
      "metadata": {
        "id": "iCMjHYzFd_VG"
      },
      "execution_count": null,
      "outputs": []
    },
    {
      "cell_type": "markdown",
      "source": [
        "**Exercise 1**: Can the arrays of the following shapes be broadcast together? If yes, what would be the shape of the result?\n",
        "\n",
        "    (7, 1) and (7, 4)\n",
        "    (7,) and (4, 7)\n",
        "    (3, 3) and (2, 3)**texte en gras**\n",
        "    (1, 1, 1, 8) and (1, 9, 1)\n",
        "    (4, 1, 9) and (3, 1)"
      ],
      "metadata": {
        "id": "B9UJ6CJImTDs"
      }
    },
    {
      "cell_type": "markdown",
      "source": [
        "**Exercice 2**: Remove the for loops in this code by using broadcasting and measure the improvement in execution time.\n"
      ],
      "metadata": {
        "id": "wB62V1FEnd9_"
      }
    },
    {
      "cell_type": "code",
      "source": [
        "import matplotlib.pyplot as mp\n",
        "import numpy as np\n",
        "\n",
        "NDETECTOR = 8\n",
        "NSAMPLE = 1000\n",
        "SAMPLING_PERIOD = 0.1\n",
        "GLITCH_TAU = 0.3\n",
        "GLITCH_AMPL = 20\n",
        "GAIN_SIGMA = 0.03\n",
        "SOURCE_AMPL = 7\n",
        "SOURCE_PERIOD = 5\n",
        "NOISE_SIGMA = 0.7\n",
        "\n",
        "time = np.arange(NSAMPLE) * SAMPLING_PERIOD\n",
        "glitch = np.zeros(NSAMPLE)\n",
        "glitch[100:] = GLITCH_AMPL * np.exp(-time[:-100] / GLITCH_TAU)\n",
        "gain = 1 + GAIN_SIGMA * np.random.standard_normal(NDETECTOR)\n",
        "offset = np.arange(NDETECTOR)\n",
        "source = SOURCE_AMPL * np.sin(2 * np.pi * time / SOURCE_PERIOD)\n",
        "noise = NOISE_SIGMA * np.random.standard_normal((NDETECTOR, NSAMPLE))\n",
        "\n",
        "signal = np.empty((NDETECTOR, NSAMPLE))\n",
        "for idet in range(NDETECTOR):\n",
        "    for isample in range(NSAMPLE):\n",
        "        signal[idet, isample] = (\n",
        "            gain[idet] * source[isample]\n",
        "            + glitch[isample]\n",
        "            + offset[idet]\n",
        "            + noise[idet, isample]\n",
        "        )\n",
        "\n",
        "mp.figure()\n",
        "mp.subplot(211)\n",
        "mp.imshow(signal, aspect='auto', interpolation='none')\n",
        "mp.xlabel('sample')\n",
        "mp.ylabel('detector')\n",
        "mp.subplot(212)\n",
        "for s in signal:\n",
        "    mp.plot(time, s)\n",
        "mp.xlabel('time [s]')\n",
        "mp.ylabel('signal')\n",
        "mp.show()\n"
      ],
      "metadata": {
        "id": "PeDj1ZwEniMI"
      },
      "execution_count": null,
      "outputs": []
    },
    {
      "cell_type": "markdown",
      "source": [
        "**Exercice 3**: Write a one-liner function that normalizes by the euclidian norm M N-dimensional real vectors packed in an array of shape (M, N). Bonus if the function works with a tensor of any rank, such as (P, Q, M, N)."
      ],
      "metadata": {
        "id": "HdUUL8AcoR7J"
      }
    },
    {
      "cell_type": "code",
      "source": [
        "import numpy as np\n",
        "\n",
        "def fast_normalize(v):\n",
        "    return v / ???\n",
        "\n",
        "vectors = np.random.normal(size=(10, 3))\n",
        "expected_normalized_vectors = vectors.copy()\n",
        "for vector in expected_normalized_vectors:\n",
        "    vector /= np.sqrt(vector[0]**2 + vector[1]**2 + vector[2]**2)\n",
        "actual_normalized_vectors = fast_normalize(vectors)\n",
        "\n",
        "assert np.allclose(actual_normalized_vectors, expected_normalized_vectors)"
      ],
      "metadata": {
        "id": "zQErOn1UogVa"
      },
      "execution_count": null,
      "outputs": []
    },
    {
      "cell_type": "markdown",
      "source": [
        "### Universal function methods\n",
        "\n"
      ],
      "metadata": {
        "id": "0NbeNFCcCTaH"
      }
    },
    {
      "cell_type": "markdown",
      "source": [],
      "metadata": {
        "id": "FtTdXD-4r79w"
      }
    },
    {
      "cell_type": "code",
      "source": [],
      "metadata": {
        "id": "Uiv469KwGp-z"
      },
      "execution_count": null,
      "outputs": []
    },
    {
      "cell_type": "code",
      "source": [],
      "metadata": {
        "id": "0p3dh9O4GrV-"
      },
      "execution_count": null,
      "outputs": []
    }
  ]
}